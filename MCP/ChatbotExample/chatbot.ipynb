{
 "cells": [
  {
   "cell_type": "code",
   "id": "initial_id",
   "metadata": {
    "collapsed": true,
    "ExecuteTime": {
     "end_time": "2025-06-09T06:29:23.181800Z",
     "start_time": "2025-06-09T06:29:22.757066Z"
    }
   },
   "source": [
    "from pickletools import code2i\n",
    "\n",
    "import arxiv\n",
    "import json\n",
    "import os\n",
    "from typing import List, Mapping\n",
    "from dotenv import load_dotenv\n",
    "import anthropic\n",
    "from jinja2.runtime import LoopContext"
   ],
   "outputs": [],
   "execution_count": 1
  },
  {
   "metadata": {
    "ExecuteTime": {
     "end_time": "2025-06-09T06:46:53.618951Z",
     "start_time": "2025-06-09T06:46:53.616046Z"
    }
   },
   "cell_type": "code",
   "source": "paper_dir = \"papers\"",
   "id": "69b9210c8cd4ac88",
   "outputs": [],
   "execution_count": 5
  },
  {
   "metadata": {
    "ExecuteTime": {
     "end_time": "2025-06-09T07:01:57.693510Z",
     "start_time": "2025-06-09T07:01:57.689141Z"
    }
   },
   "cell_type": "code",
   "source": [
    "def search_papers(topic: str, max_results: int = 5) -> List[str]:\n",
    "    \"\"\"\n",
    "    Search for papers on arXiv based on a topic and store their information.\n",
    "    args:\n",
    "    :param topic: The topic to search for papers on arXiv.\n",
    "    :param max_results: The maximum number of results to retrieve. default is 5.\n",
    "    :returns:\n",
    "     List of paper IDs found in the search.\n",
    "    \"\"\"\n",
    "\n",
    "    # use arxiv to find the papers\n",
    "    client = arxiv.Client()\n",
    "\n",
    "    # Search for the most relevant articles matching the queried topic\n",
    "    search = arxiv.Search(\n",
    "        query=topic,\n",
    "        max_results=max_results,\n",
    "        sort_by=arxiv.SortCriterion.Relevance\n",
    "    )\n",
    "\n",
    "    papers = client.results(search)\n",
    "\n",
    "    # create a directory to store the papers if it doesn't exist\n",
    "    path = os.path.join(paper_dir, topic.lower().replace(\" \", \"_\"))\n",
    "    os.makedirs(path, exist_ok=True)\n",
    "\n",
    "    file_path = os.path.join(path, \"papers_info.json\")\n",
    "\n",
    "    try:\n",
    "        with open(file_path, \"r\") as json_file:\n",
    "            papers_info = json.load(json_file)\n",
    "    except (FileNotFoundError, json.decoder.JSONDecodeError):\n",
    "        papers_info = {}\n",
    "\n",
    "    #     Process each paper and add to papers_info\n",
    "    paper_ids = []\n",
    "    for paper in papers:\n",
    "        paper_ids.append(paper.get_short_id())\n",
    "        paper_info = {\n",
    "            \"title\": paper.title,\n",
    "            \"authors\": [author.name for author in paper.authors],\n",
    "            \"summary\": paper.summary,\n",
    "            \"pdf_url\": paper.pdf_url,\n",
    "            \"published\": str(paper.published.date()),\n",
    "        }\n",
    "        papers_info[paper.get_short_id()] = paper_info\n",
    "\n",
    "    #     Save updated papers_info to JSON file\n",
    "    with open(file_path, \"w\") as json_file:\n",
    "        json.dump(papers_info, json_file, indent=2)\n",
    "\n",
    "    print(f\"Results are saved in {file_path}\")\n",
    "    return papers_info\n",
    "\n",
    "\n"
   ],
   "id": "3269a89adda64ded",
   "outputs": [],
   "execution_count": 7
  },
  {
   "metadata": {
    "ExecuteTime": {
     "end_time": "2025-06-09T07:02:13.560550Z",
     "start_time": "2025-06-09T07:01:59.805233Z"
    }
   },
   "cell_type": "code",
   "source": "search_papers(\"computers\")",
   "id": "61e8f36308391b62",
   "outputs": [
    {
     "name": "stdout",
     "output_type": "stream",
     "text": [
      "Results are saved in papers/computers/papers_info.json\n"
     ]
    },
    {
     "data": {
      "text/plain": [
       "{'1310.7911v2': {'title': 'Compact manifolds with computable boundaries',\n",
       "  'authors': ['Zvonko Iljazovic'],\n",
       "  'summary': 'We investigate conditions under which a co-computably enumerable closed set\\nin a computable metric space is computable and prove that in each locally\\ncomputable computable metric space each co-computably enumerable compact\\nmanifold with computable boundary is computable. In fact, we examine the notion\\nof a semi-computable compact set and we prove a more general result: in any\\ncomputable metric space each semi-computable compact manifold with computable\\nboundary is computable. In particular, each semi-computable compact\\n(boundaryless) manifold is computable.',\n",
       "  'pdf_url': 'http://arxiv.org/pdf/1310.7911v2',\n",
       "  'published': '2013-10-29'},\n",
       " 'math/9711204v1': {'title': 'Aspects of Computability in Physics',\n",
       "  'authors': ['Joseph Shipman'],\n",
       "  'summary': 'This paper reviews connections between physics and computation, and explores\\ntheir implications. The main topics are computational \"hardness\" of physical\\nsystems, computational status of fundamental theories, quantum computation, and\\nthe Universe as a computer.',\n",
       "  'pdf_url': 'http://arxiv.org/pdf/math/9711204v1',\n",
       "  'published': '1997-11-25'},\n",
       " '2208.00733v1': {'title': 'The Rise of Quantum Internet Computing',\n",
       "  'authors': ['Seng W. Loke'],\n",
       "  'summary': 'This article highlights quantum Internet computing as referring to\\ndistributed quantum computing over the quantum Internet, analogous to\\n(classical) Internet computing involving (classical) distributed computing over\\nthe (classical) Internet. Relevant to quantum Internet computing would be areas\\nof study such as quantum protocols for distributed nodes using quantum\\ninformation for computations, quantum cloud computing, delegated verifiable\\nblind or private computing, non-local gates, and distributed quantum\\napplications, over Internet-scale distances.',\n",
       "  'pdf_url': 'http://arxiv.org/pdf/2208.00733v1',\n",
       "  'published': '2022-08-01'},\n",
       " '2504.07020v1': {'title': 'Computably discrete represented spaces',\n",
       "  'authors': ['Eike Neumann',\n",
       "   'Arno Pauly',\n",
       "   'Cécilia Pradic',\n",
       "   'Manlio Valenti'],\n",
       "  'summary': 'In computable topology, a represented space is called computably discrete if\\nits equality predicate is semidecidable. While any such space is classically\\nisomorphic to an initial segment of the natural numbers, the\\ncomputable-isomorphism types of computably discrete represented spaces exhibit\\na rich structure. We show that the widely studied class of computably\\nenumerable equivalence relations (ceers) corresponds precisely to the\\ncomputably Quasi-Polish computably discrete spaces. We employ computably\\ndiscrete spaces to exhibit several separating examples in computable topology.\\nWe construct a computably discrete computably Quasi-Polish space admitting no\\ndecidable properties, a computably discrete and computably Hausdorff\\nprecomputably Quasi-Polish space admitting no computable injection into the\\nnatural numbers, a two-point space which is computably Hausdorff but not\\ncomputably discrete, and a two-point space which is computably discrete but not\\ncomputably Hausdorff. We further expand an example due to Weihrauch that\\nseparates computably regular spaces from computably normal spaces.',\n",
       "  'pdf_url': 'http://arxiv.org/pdf/2504.07020v1',\n",
       "  'published': '2025-04-09'},\n",
       " '2403.03925v1': {'title': 'Consciousness qua Mortal Computation',\n",
       "  'authors': ['Johannes Kleiner'],\n",
       "  'summary': 'Computational functionalism posits that consciousness is a computation. Here\\nwe show, perhaps surprisingly, that it cannot be a Turing computation. Rather,\\ncomputational functionalism implies that consciousness is a novel type of\\ncomputation that has recently been proposed by Geoffrey Hinton, called mortal\\ncomputation.',\n",
       "  'pdf_url': 'http://arxiv.org/pdf/2403.03925v1',\n",
       "  'published': '2024-03-06'}}"
      ]
     },
     "execution_count": 8,
     "metadata": {},
     "output_type": "execute_result"
    }
   ],
   "execution_count": 8
  },
  {
   "metadata": {
    "ExecuteTime": {
     "end_time": "2025-06-09T07:11:45.979625Z",
     "start_time": "2025-06-09T07:11:45.972832Z"
    }
   },
   "cell_type": "code",
   "source": [
    "def extract_info(paper_id: str) -> str:\n",
    "    \"\"\"\n",
    "    Search for information about a specific paper across all topic directories.\n",
    "\n",
    "    args:\n",
    "        paper_id: The paper ID to look for\n",
    "    returns:\n",
    "        Json string with paper information if found, otherwise an error message.\n",
    "    \"\"\"\n",
    "\n",
    "    for item in os.listdir(paper_dir):\n",
    "        item_path = os.path.join(paper_dir, item)\n",
    "        if os.path.isdir(item_path):\n",
    "            file_path = os.path.join(item_path, \"papers_info.json\")\n",
    "            if os.path.isfile(file_path):\n",
    "                try:\n",
    "                    with open(file_path, \"r\") as json_file:\n",
    "                        papers_info = json.load(json_file)\n",
    "                        if paper_id in papers_info:\n",
    "                            return json.dumps(papers_info[paper_id], indent=2)\n",
    "                except (FileNotFoundError, json.decoder.JSONDecodeError) as e:\n",
    "                    print(f\"Error reading {file_path}: {str(e)}\")\n",
    "                    continue\n",
    "    return f\"Theres's no saved information related to paper ID {paper_id}\"\n"
   ],
   "id": "36700f0024290c7",
   "outputs": [],
   "execution_count": 9
  },
  {
   "metadata": {
    "ExecuteTime": {
     "end_time": "2025-06-09T07:11:47.901064Z",
     "start_time": "2025-06-09T07:11:47.894674Z"
    }
   },
   "cell_type": "code",
   "source": "extract_info('1310.7911v2')\n",
   "id": "3c63430db9141cab",
   "outputs": [
    {
     "data": {
      "text/plain": [
       "'{\\n  \"title\": \"Compact manifolds with computable boundaries\",\\n  \"authors\": [\\n    \"Zvonko Iljazovic\"\\n  ],\\n  \"summary\": \"We investigate conditions under which a co-computably enumerable closed set\\\\nin a computable metric space is computable and prove that in each locally\\\\ncomputable computable metric space each co-computably enumerable compact\\\\nmanifold with computable boundary is computable. In fact, we examine the notion\\\\nof a semi-computable compact set and we prove a more general result: in any\\\\ncomputable metric space each semi-computable compact manifold with computable\\\\nboundary is computable. In particular, each semi-computable compact\\\\n(boundaryless) manifold is computable.\",\\n  \"pdf_url\": \"http://arxiv.org/pdf/1310.7911v2\",\\n  \"published\": \"2013-10-29\"\\n}'"
      ]
     },
     "execution_count": 10,
     "metadata": {},
     "output_type": "execute_result"
    }
   ],
   "execution_count": 10
  },
  {
   "metadata": {
    "ExecuteTime": {
     "end_time": "2025-06-09T07:13:39.071253Z",
     "start_time": "2025-06-09T07:13:39.067943Z"
    }
   },
   "cell_type": "code",
   "source": [
    "tools = [\n",
    "    {\n",
    "        \"name\": \"search_papers\",\n",
    "        \"description\": \"Search for papers on arXiv based on a topic and store their information.\",\n",
    "        \"input_schema\": {\n",
    "            \"type\": \"object\",\n",
    "            \"properties\": {\n",
    "                \"topic\": {\n",
    "                    \"type\": \"string\",\n",
    "                    \"description\": \"The topic to search for\"\n",
    "                },\n",
    "                \"max_results\": {\n",
    "                    \"type\": \"integer\",\n",
    "                    \"description\": \"The maximum number of results to retrieve. Default is 5.\",\n",
    "                    \"default\": 5\n",
    "                }\n",
    "            },\n",
    "            \"required\": [\"topic\"]\n",
    "        }\n",
    "    },\n",
    "    {\n",
    "        \"name\": \"extract_info\",\n",
    "        \"description\": \"Search for information about a specific paper across all topic directories.\",\n",
    "        \"input_schema\": {\n",
    "            \"type\": \"object\",\n",
    "            \"properties\": {\n",
    "                \"paper_id\": {\n",
    "                    \"type\": \"string\",\n",
    "                    \"description\": \"The paper ID to look for\"\n",
    "                }\n",
    "            },\n",
    "            \"required\": [\"paper_id\"]\n",
    "        }\n",
    "    }\n",
    "]"
   ],
   "id": "ea8d36c5b1498787",
   "outputs": [],
   "execution_count": 11
  },
  {
   "metadata": {
    "ExecuteTime": {
     "end_time": "2025-06-09T07:21:01.740570Z",
     "start_time": "2025-06-09T07:21:01.735047Z"
    }
   },
   "cell_type": "code",
   "source": [
    "### Tool Mapping\n",
    "mapping_tool_function = {\n",
    "    \"search_papers\": search_papers,\n",
    "    \"extract_info\": extract_info\n",
    "}\n",
    "\n",
    "\n",
    "def execute_tool(tool_name, tool_args):\n",
    "    result = mapping_tool_function[tool_name](**tool_args)\n",
    "    if result is None:\n",
    "        result = \"The operation completed but didnot return any result.\"\n",
    "    elif isinstance(result, list):\n",
    "        result = ','.join(result)\n",
    "    elif isinstance(result, dict):\n",
    "        # convert dictionaries to a JSON string\n",
    "        result = json.dumps(result, indent=2)\n",
    "\n",
    "    else:\n",
    "        # For other types, convert use str(result)\n",
    "        result = str(result)\n",
    "    return result\n"
   ],
   "id": "99e84d1a28c65aae",
   "outputs": [],
   "execution_count": 12
  },
  {
   "metadata": {
    "ExecuteTime": {
     "end_time": "2025-06-09T07:36:58.306399Z",
     "start_time": "2025-06-09T07:36:58.255195Z"
    }
   },
   "cell_type": "code",
   "source": [
    "# chatbot code\n",
    "\n",
    "load_dotenv()\n",
    "client = anthropic.Anthropic()\n",
    "\n"
   ],
   "id": "c32c11b40e3b56d3",
   "outputs": [],
   "execution_count": 13
  },
  {
   "metadata": {
    "ExecuteTime": {
     "end_time": "2025-06-09T07:37:06.436390Z",
     "start_time": "2025-06-09T07:37:06.429770Z"
    }
   },
   "cell_type": "code",
   "source": [
    "def process_query(query):\n",
    "    messages = [{\"role\": \"user\", \"content\": query}]\n",
    "\n",
    "    response = client.messages.create(max_tokens=2024, model=\"claude-3-7-sonnet-2025-02-19\",\n",
    "                                      tools=tools,\n",
    "                                      messages=messages)\n",
    "    process_query = True\n",
    "    while process_query:\n",
    "        assistant_content = []\n",
    "\n",
    "        for content in response.content:\n",
    "            if content.type == 'text':\n",
    "                print(content.text)\n",
    "                assistant_content.append(content)\n",
    "                if len(response.content) == 1:\n",
    "                    process_query = False\n",
    "            elif content.type == 'tool_use':\n",
    "                assistant_content.append(content)\n",
    "                messages.append({\"role\": \"assistant\", \"content\": assistant_content})\n",
    "\n",
    "                tool_id = content.id\n",
    "                tool_args = content.input\n",
    "                tool_name = content.name\n",
    "                print(f\"Calling tool {tool_name} with args: {tool_args}\")\n",
    "\n",
    "                result = execute_tool(tool_name, tool_args)\n",
    "                messages.append({\"role\": \"user\",\n",
    "                                 \"content\": [\n",
    "                                     {\n",
    "                                         \"type\": \"tool_result\",\n",
    "                                         \"tool_use_id\": tool_id,\n",
    "                                         \"content\": result\n",
    "                                     }\n",
    "                                 ]})\n",
    "\n",
    "                response = client.messages.create(max_tokens=2024,\n",
    "                                                  model=\"claude-3-7-sonnet-2025-02-19\",\n",
    "                                                  tools=tools,\n",
    "                                                  messages=messages)\n",
    "\n",
    "                if len(response.content) == 1 and response.content[0].type == 'text':\n",
    "                    print(response.content[0].text)\n",
    "                    process_query = False\n"
   ],
   "id": "77810da08a2f35e8",
   "outputs": [],
   "execution_count": 14
  },
  {
   "metadata": {},
   "cell_type": "code",
   "outputs": [],
   "execution_count": null,
   "source": [
    "def process_query(query):\n",
    "    messages = [{'role': 'user', 'content': query}]\n",
    "\n",
    "    response = client.messages.create(max_tokens=2024,\n",
    "                                      model='claude-3-7-sonnet-20250219',\n",
    "                                      tools=tools,\n",
    "                                      messages=messages)\n",
    "\n",
    "    process_query = True\n",
    "    while process_query:\n",
    "        assistant_content = []\n",
    "\n",
    "        for content in response.content:\n",
    "            if content.type == 'text':\n",
    "\n",
    "                print(content.text)\n",
    "                assistant_content.append(content)\n",
    "\n",
    "                if len(response.content) == 1:\n",
    "                    process_query = False\n",
    "\n",
    "            elif content.type == 'tool_use':\n",
    "\n",
    "                assistant_content.append(content)\n",
    "                messages.append({'role': 'assistant', 'content': assistant_content})\n",
    "\n",
    "                tool_id = content.id\n",
    "                tool_args = content.input\n",
    "                tool_name = content.name\n",
    "                print(f\"Calling tool {tool_name} with args {tool_args}\")\n",
    "\n",
    "                result = execute_tool(tool_name, tool_args)\n",
    "                messages.append({\"role\": \"user\",\n",
    "                                 \"content\": [\n",
    "                                     {\n",
    "                                         \"type\": \"tool_result\",\n",
    "                                         \"tool_use_id\": tool_id,\n",
    "                                         \"content\": result\n",
    "                                     }\n",
    "                                 ]\n",
    "                                 })\n",
    "                response = client.messages.create(max_tokens=2024,\n",
    "                                                  model='claude-3-7-sonnet-20250219',\n",
    "                                                  tools=tools,\n",
    "                                                  messages=messages)\n",
    "\n",
    "                if len(response.content) == 1 and response.content[0].type == \"text\":\n",
    "                    print(response.content[0].text)\n",
    "                    process_query = False"
   ],
   "id": "afaa6ab68383cc23"
  },
  {
   "metadata": {
    "ExecuteTime": {
     "end_time": "2025-06-09T07:37:08.737063Z",
     "start_time": "2025-06-09T07:37:08.733036Z"
    }
   },
   "cell_type": "code",
   "source": [
    "# Chat Loop\n",
    "def chat_loop():\n",
    "    print(\"Type your query or 'exit' to quit:\")\n",
    "    while True:\n",
    "        try:\n",
    "            query = input(\"\\nQuery: \").strip()\n",
    "            if query.lower() == 'exit':\n",
    "                print(\"Exiting the chat.\")\n",
    "                break\n",
    "            process_query(query)\n",
    "            print(\"\\n\")\n",
    "        except Exception as e:\n",
    "            print(f\"\\nExiting the chat.{str(e)}\")\n",
    "\n"
   ],
   "id": "984a1e7a50ffa1fd",
   "outputs": [],
   "execution_count": 15
  },
  {
   "metadata": {
    "ExecuteTime": {
     "end_time": "2025-06-09T07:37:33.412302Z",
     "start_time": "2025-06-09T07:37:10.666344Z"
    }
   },
   "cell_type": "code",
   "source": "chat_loop()",
   "id": "2a6ad2661f429337",
   "outputs": [
    {
     "name": "stdout",
     "output_type": "stream",
     "text": [
      "Type your query or 'exit' to quit:\n",
      "\n",
      "Exiting the chat.\"Could not resolve authentication method. Expected either api_key or auth_token to be set. Or for one of the `X-Api-Key` or `Authorization` headers to be explicitly omitted\"\n",
      "Exiting the chat.\n"
     ]
    }
   ],
   "execution_count": 16
  },
  {
   "metadata": {},
   "cell_type": "code",
   "outputs": [],
   "execution_count": null,
   "source": [
    "{\"role\": \"user\", \"content\": [{\"type\": \"text\", \"text\": \"query\"}]}\n",
    "{\"role\": \"assistant\", \"content\": [\n",
    "    {\"type\": \"tool_use\", \"name\": \"search_papers\", \"id\": \"a1\", \"input\": {\"topic\": \"computers\", \"max_results\": 5}},\n",
    "    {\"type\": \"tool_use\", \"name\": \"extract_info\", \"id\": \"b1\", \"input\": {\"paper_ids\": [\"id1\", \"id2\"]}}]}\n",
    "{\"role\": \"user\", \"content\": [{\"type\": \"tool_result\", \"tool_use_id\": \"a1\", \"content\": \"论文搜索结果\"}]}\n",
    "{\"role\": \"user\", \"content\": [{\"type\": \"tool_result\", \"tool_use_id\": \"b1\", \"content\": \"论文提取的信息为。。。。。\"}]}\n",
    "{\"role\": \"assistant\", \"content\": [{\"type\": \"text\", \"text\": \"我就是最终的结果啦\"}]}\n",
    "\n",
    "\n",
    "{\"role\": \"user\", \"content\": [{\"type\": \"tool_result\", \"tool_use_id\": \"a1\", \"content\": \"论文搜索结果\"},{\"type\": \"tool_result\", \"tool_use_id\": \"b1\", \"content\": \"论文提取的信息为。。。。。\"}]}\n",
    "{\"role\": \"assistant\", \"content\": [{\"type\": \"text\", \"text\": \"我就是最终的结果啦\"}]}\n"
   ],
   "id": "1c02d9b227e99682"
  }
 ],
 "metadata": {
  "kernelspec": {
   "display_name": "Python (venv)",
   "language": "python",
   "name": "venv"
  },
  "language_info": {
   "codemirror_mode": {
    "name": "ipython",
    "version": 2
   },
   "file_extension": ".py",
   "mimetype": "text/x-python",
   "name": "python",
   "nbconvert_exporter": "python",
   "pygments_lexer": "ipython2",
   "version": "2.7.6"
  }
 },
 "nbformat": 4,
 "nbformat_minor": 5
}
