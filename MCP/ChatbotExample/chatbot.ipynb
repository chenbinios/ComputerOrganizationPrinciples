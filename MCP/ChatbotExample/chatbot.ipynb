{
 "cells": [
  {
   "cell_type": "code",
   "id": "initial_id",
   "metadata": {
    "collapsed": true,
    "ExecuteTime": {
     "end_time": "2025-06-11T03:36:17.087705Z",
     "start_time": "2025-06-11T03:36:16.693159Z"
    }
   },
   "source": [
    "\n",
    "import arxiv\n",
    "import json\n",
    "import os\n",
    "from typing import List, Mapping\n",
    "from dotenv import load_dotenv\n",
    "import anthropic\n",
    "from mcp.server.fastmcp import FastMCP"
   ],
   "outputs": [],
   "execution_count": 2
  },
  {
   "metadata": {
    "ExecuteTime": {
     "end_time": "2025-06-11T03:36:18.208266Z",
     "start_time": "2025-06-11T03:36:18.200041Z"
    }
   },
   "cell_type": "code",
   "source": [
    "paper_dir = \"papers\"\n",
    "\n",
    "# initialize fastmcp server\n",
    "mcp = FastMCP(\"research\")\n",
    "\n"
   ],
   "id": "69b9210c8cd4ac88",
   "outputs": [],
   "execution_count": 3
  },
  {
   "metadata": {
    "ExecuteTime": {
     "end_time": "2025-06-11T03:35:29.125012Z",
     "start_time": "2025-06-11T03:35:29.117492Z"
    }
   },
   "cell_type": "code",
   "source": [
    "@mcp.tool()\n",
    "def search_papers(topic: str, max_results: int = 5) -> List[str]:\n",
    "    \"\"\"\n",
    "    Search for papers on arXiv based on a topic and store their information.\n",
    "    args:\n",
    "    :param topic: The topic to search for papers on arXiv.\n",
    "    :param max_results: The maximum number of results to retrieve. default is 5.\n",
    "    :returns:\n",
    "     List of paper IDs found in the search.\n",
    "    \"\"\"\n",
    "\n",
    "    # use arxiv to find the papers\n",
    "    client = arxiv.Client()\n",
    "\n",
    "    # Search for the most relevant articles matching the queried topic\n",
    "    search = arxiv.Search(\n",
    "        query=topic,\n",
    "        max_results=max_results,\n",
    "        sort_by=arxiv.SortCriterion.Relevance\n",
    "    )\n",
    "\n",
    "    papers = client.results(search)\n",
    "\n",
    "    # create a directory to store the papers if it doesn't exist\n",
    "    path = os.path.join(paper_dir, topic.lower().replace(\" \", \"_\"))\n",
    "    os.makedirs(path, exist_ok=True)\n",
    "\n",
    "    file_path = os.path.join(path, \"papers_info.json\")\n",
    "\n",
    "    try:\n",
    "        with open(file_path, \"r\") as json_file:\n",
    "            papers_info = json.load(json_file)\n",
    "    except (FileNotFoundError, json.decoder.JSONDecodeError):\n",
    "        papers_info = {}\n",
    "\n",
    "    #     Process each paper and add to papers_info\n",
    "    paper_ids = []\n",
    "    for paper in papers:\n",
    "        paper_ids.append(paper.get_short_id())\n",
    "        paper_info = {\n",
    "            \"title\": paper.title,\n",
    "            \"authors\": [author.name for author in paper.authors],\n",
    "            \"summary\": paper.summary,\n",
    "            \"pdf_url\": paper.pdf_url,\n",
    "            \"published\": str(paper.published.date()),\n",
    "        }\n",
    "        papers_info[paper.get_short_id()] = paper_info\n",
    "\n",
    "    #     Save updated papers_info to JSON file\n",
    "    with open(file_path, \"w\") as json_file:\n",
    "        json.dump(papers_info, json_file, indent=2)\n",
    "\n",
    "    print(f\"Results are saved in {file_path}\")\n",
    "    return papers_info\n",
    "\n",
    "\n"
   ],
   "id": "3269a89adda64ded",
   "outputs": [],
   "execution_count": 7
  },
  {
   "metadata": {
    "ExecuteTime": {
     "end_time": "2025-06-09T07:02:13.560550Z",
     "start_time": "2025-06-09T07:01:59.805233Z"
    }
   },
   "cell_type": "code",
   "source": "search_papers(\"computers\")",
   "id": "61e8f36308391b62",
   "outputs": [
    {
     "name": "stdout",
     "output_type": "stream",
     "text": [
      "Results are saved in papers/computers/papers_info.json\n"
     ]
    },
    {
     "data": {
      "text/plain": [
       "{'1310.7911v2': {'title': 'Compact manifolds with computable boundaries',\n",
       "  'authors': ['Zvonko Iljazovic'],\n",
       "  'summary': 'We investigate conditions under which a co-computably enumerable closed set\\nin a computable metric space is computable and prove that in each locally\\ncomputable computable metric space each co-computably enumerable compact\\nmanifold with computable boundary is computable. In fact, we examine the notion\\nof a semi-computable compact set and we prove a more general result: in any\\ncomputable metric space each semi-computable compact manifold with computable\\nboundary is computable. In particular, each semi-computable compact\\n(boundaryless) manifold is computable.',\n",
       "  'pdf_url': 'http://arxiv.org/pdf/1310.7911v2',\n",
       "  'published': '2013-10-29'},\n",
       " 'math/9711204v1': {'title': 'Aspects of Computability in Physics',\n",
       "  'authors': ['Joseph Shipman'],\n",
       "  'summary': 'This paper reviews connections between physics and computation, and explores\\ntheir implications. The main topics are computational \"hardness\" of physical\\nsystems, computational status of fundamental theories, quantum computation, and\\nthe Universe as a computer.',\n",
       "  'pdf_url': 'http://arxiv.org/pdf/math/9711204v1',\n",
       "  'published': '1997-11-25'},\n",
       " '2208.00733v1': {'title': 'The Rise of Quantum Internet Computing',\n",
       "  'authors': ['Seng W. Loke'],\n",
       "  'summary': 'This article highlights quantum Internet computing as referring to\\ndistributed quantum computing over the quantum Internet, analogous to\\n(classical) Internet computing involving (classical) distributed computing over\\nthe (classical) Internet. Relevant to quantum Internet computing would be areas\\nof study such as quantum protocols for distributed nodes using quantum\\ninformation for computations, quantum cloud computing, delegated verifiable\\nblind or private computing, non-local gates, and distributed quantum\\napplications, over Internet-scale distances.',\n",
       "  'pdf_url': 'http://arxiv.org/pdf/2208.00733v1',\n",
       "  'published': '2022-08-01'},\n",
       " '2504.07020v1': {'title': 'Computably discrete represented spaces',\n",
       "  'authors': ['Eike Neumann',\n",
       "   'Arno Pauly',\n",
       "   'Cécilia Pradic',\n",
       "   'Manlio Valenti'],\n",
       "  'summary': 'In computable topology, a represented space is called computably discrete if\\nits equality predicate is semidecidable. While any such space is classically\\nisomorphic to an initial segment of the natural numbers, the\\ncomputable-isomorphism types of computably discrete represented spaces exhibit\\na rich structure. We show that the widely studied class of computably\\nenumerable equivalence relations (ceers) corresponds precisely to the\\ncomputably Quasi-Polish computably discrete spaces. We employ computably\\ndiscrete spaces to exhibit several separating examples in computable topology.\\nWe construct a computably discrete computably Quasi-Polish space admitting no\\ndecidable properties, a computably discrete and computably Hausdorff\\nprecomputably Quasi-Polish space admitting no computable injection into the\\nnatural numbers, a two-point space which is computably Hausdorff but not\\ncomputably discrete, and a two-point space which is computably discrete but not\\ncomputably Hausdorff. We further expand an example due to Weihrauch that\\nseparates computably regular spaces from computably normal spaces.',\n",
       "  'pdf_url': 'http://arxiv.org/pdf/2504.07020v1',\n",
       "  'published': '2025-04-09'},\n",
       " '2403.03925v1': {'title': 'Consciousness qua Mortal Computation',\n",
       "  'authors': ['Johannes Kleiner'],\n",
       "  'summary': 'Computational functionalism posits that consciousness is a computation. Here\\nwe show, perhaps surprisingly, that it cannot be a Turing computation. Rather,\\ncomputational functionalism implies that consciousness is a novel type of\\ncomputation that has recently been proposed by Geoffrey Hinton, called mortal\\ncomputation.',\n",
       "  'pdf_url': 'http://arxiv.org/pdf/2403.03925v1',\n",
       "  'published': '2024-03-06'}}"
      ]
     },
     "execution_count": 8,
     "metadata": {},
     "output_type": "execute_result"
    }
   ],
   "execution_count": 8
  },
  {
   "metadata": {
    "ExecuteTime": {
     "end_time": "2025-06-11T03:35:31.832755Z",
     "start_time": "2025-06-11T03:35:31.825800Z"
    }
   },
   "cell_type": "code",
   "source": [
    "@mcp.tool()\n",
    "def extract_info(paper_id: str) -> str:\n",
    "    \"\"\"\n",
    "    Search for information about a specific paper across all topic directories.\n",
    "\n",
    "    args:\n",
    "        paper_id: The paper ID to look for\n",
    "    returns:\n",
    "        Json string with paper information if found, otherwise an error message.\n",
    "    \"\"\"\n",
    "\n",
    "    for item in os.listdir(paper_dir):\n",
    "        item_path = os.path.join(paper_dir, item)\n",
    "        if os.path.isdir(item_path):\n",
    "            file_path = os.path.join(item_path, \"papers_info.json\")\n",
    "            if os.path.isfile(file_path):\n",
    "                try:\n",
    "                    with open(file_path, \"r\") as json_file:\n",
    "                        papers_info = json.load(json_file)\n",
    "                        if paper_id in papers_info:\n",
    "                            return json.dumps(papers_info[paper_id], indent=2)\n",
    "                except (FileNotFoundError, json.decoder.JSONDecodeError) as e:\n",
    "                    print(f\"Error reading {file_path}: {str(e)}\")\n",
    "                    continue\n",
    "    return f\"Theres's no saved information related to paper ID {paper_id}\"\n"
   ],
   "id": "36700f0024290c7",
   "outputs": [],
   "execution_count": 8
  },
  {
   "metadata": {
    "ExecuteTime": {
     "end_time": "2025-06-09T07:11:47.901064Z",
     "start_time": "2025-06-09T07:11:47.894674Z"
    }
   },
   "cell_type": "code",
   "source": "extract_info('1310.7911v2')\n",
   "id": "3c63430db9141cab",
   "outputs": [
    {
     "data": {
      "text/plain": [
       "'{\\n  \"title\": \"Compact manifolds with computable boundaries\",\\n  \"authors\": [\\n    \"Zvonko Iljazovic\"\\n  ],\\n  \"summary\": \"We investigate conditions under which a co-computably enumerable closed set\\\\nin a computable metric space is computable and prove that in each locally\\\\ncomputable computable metric space each co-computably enumerable compact\\\\nmanifold with computable boundary is computable. In fact, we examine the notion\\\\nof a semi-computable compact set and we prove a more general result: in any\\\\ncomputable metric space each semi-computable compact manifold with computable\\\\nboundary is computable. In particular, each semi-computable compact\\\\n(boundaryless) manifold is computable.\",\\n  \"pdf_url\": \"http://arxiv.org/pdf/1310.7911v2\",\\n  \"published\": \"2013-10-29\"\\n}'"
      ]
     },
     "execution_count": 10,
     "metadata": {},
     "output_type": "execute_result"
    }
   ],
   "execution_count": 10
  },
  {
   "metadata": {
    "ExecuteTime": {
     "end_time": "2025-06-09T07:13:39.071253Z",
     "start_time": "2025-06-09T07:13:39.067943Z"
    }
   },
   "cell_type": "code",
   "source": [
    "tools = [\n",
    "    {\n",
    "        \"name\": \"search_papers\",\n",
    "        \"description\": \"Search for papers on arXiv based on a topic and store their information.\",\n",
    "        \"input_schema\": {\n",
    "            \"type\": \"object\",\n",
    "            \"properties\": {\n",
    "                \"topic\": {\n",
    "                    \"type\": \"string\",\n",
    "                    \"description\": \"The topic to search for\"\n",
    "                },\n",
    "                \"max_results\": {\n",
    "                    \"type\": \"integer\",\n",
    "                    \"description\": \"The maximum number of results to retrieve. Default is 5.\",\n",
    "                    \"default\": 5\n",
    "                }\n",
    "            },\n",
    "            \"required\": [\"topic\"]\n",
    "        }\n",
    "    },\n",
    "    {\n",
    "        \"name\": \"extract_info\",\n",
    "        \"description\": \"Search for information about a specific paper across all topic directories.\",\n",
    "        \"input_schema\": {\n",
    "            \"type\": \"object\",\n",
    "            \"properties\": {\n",
    "                \"paper_id\": {\n",
    "                    \"type\": \"string\",\n",
    "                    \"description\": \"The paper ID to look for\"\n",
    "                }\n",
    "            },\n",
    "            \"required\": [\"paper_id\"]\n",
    "        }\n",
    "    }\n",
    "]"
   ],
   "id": "ea8d36c5b1498787",
   "outputs": [],
   "execution_count": 11
  },
  {
   "metadata": {
    "ExecuteTime": {
     "end_time": "2025-06-09T07:21:01.740570Z",
     "start_time": "2025-06-09T07:21:01.735047Z"
    }
   },
   "cell_type": "code",
   "source": [
    "### Tool Mapping\n",
    "mapping_tool_function = {\n",
    "    \"search_papers\": search_papers,\n",
    "    \"extract_info\": extract_info\n",
    "}\n",
    "\n",
    "\n",
    "def execute_tool(tool_name, tool_args):\n",
    "    result = mapping_tool_function[tool_name](**tool_args)\n",
    "    if result is None:\n",
    "        result = \"The operation completed but didnot return any result.\"\n",
    "    elif isinstance(result, list):\n",
    "        result = ','.join(result)\n",
    "    elif isinstance(result, dict):\n",
    "        # convert dictionaries to a JSON string\n",
    "        result = json.dumps(result, indent=2)\n",
    "\n",
    "    else:\n",
    "        # For other types, convert use str(result)\n",
    "        result = str(result)\n",
    "    return result\n"
   ],
   "id": "99e84d1a28c65aae",
   "outputs": [],
   "execution_count": 12
  },
  {
   "metadata": {
    "ExecuteTime": {
     "end_time": "2025-06-09T07:36:58.306399Z",
     "start_time": "2025-06-09T07:36:58.255195Z"
    }
   },
   "cell_type": "code",
   "source": [
    "# chatbot code\n",
    "\n",
    "load_dotenv()\n",
    "client = anthropic.Anthropic()\n",
    "\n"
   ],
   "id": "c32c11b40e3b56d3",
   "outputs": [],
   "execution_count": 13
  },
  {
   "metadata": {
    "ExecuteTime": {
     "end_time": "2025-06-09T07:37:06.436390Z",
     "start_time": "2025-06-09T07:37:06.429770Z"
    }
   },
   "cell_type": "code",
   "source": [
    "def process_query(query):\n",
    "    messages = [{\"role\": \"user\", \"content\": query}]\n",
    "\n",
    "    response = client.messages.create(max_tokens=2024, model=\"claude-3-7-sonnet-2025-02-19\",\n",
    "                                      tools=tools,\n",
    "                                      messages=messages)\n",
    "    process_query = True\n",
    "    while process_query:\n",
    "        # while循环， 一次循环表示大模型回应一次，assistant_content用来汇总大模型本次回应的所有消息,user_content用来汇总本次用户对于大模型的回应的回应，主要是工具调用\n",
    "        assistant_content = []\n",
    "        user_tools_content = []\n",
    "        # 终止条件 当回应的内容只有一条且是文本内容的时候，打印内容，结束对话\n",
    "        for content in response.content:\n",
    "            if content.type == 'text':\n",
    "                print(content.text)\n",
    "                assistant_content.append(content)\n",
    "                # 如果大模型回应的内容数组只有一个，且类型为text，表示此次对话结束，可以打印消息并跳出循环\n",
    "                if len(response.content) == 1:\n",
    "                    process_query = False\n",
    "            elif content.type == 'tool_use':\n",
    "                assistant_content.append(content)\n",
    "\n",
    "                tool_id = content.id\n",
    "                tool_args = content.input\n",
    "                tool_name = content.name\n",
    "                print(f\"Calling tool {tool_name} with args: {tool_args}\")\n",
    "\n",
    "                result = execute_tool(tool_name, tool_args)\n",
    "\n",
    "                user_tools_content.append({\n",
    "                    \"type\":\"tool_result\",\n",
    "                    \"tool_use_id\":tool_id,\n",
    "                    \"content\":result\n",
    "                })\n",
    "        #         此次对话当前轮的回应消息已经遍历完了，将大模型的回应以及用户的回应都拼接好了，然后将新的消息发送给大模型，请求新的回应\n",
    "        messages.append({\"role\": \"assistant\", \"content\": assistant_content})\n",
    "        messages.append({\"role\": \"user\", \"content\": user_tools_content})\n",
    "\n",
    "        response = client.messages.create(max_tokens=2024,\n",
    "                                          model=\"claude-3-7-sonnet-2025-02-19\",\n",
    "                                          tools=tools,\n",
    "                                          messages=messages)\n"
   ],
   "id": "77810da08a2f35e8",
   "outputs": [],
   "execution_count": 14
  },
  {
   "metadata": {
    "ExecuteTime": {
     "end_time": "2025-06-09T07:37:08.737063Z",
     "start_time": "2025-06-09T07:37:08.733036Z"
    }
   },
   "cell_type": "code",
   "source": [
    "# Chat Loop\n",
    "def chat_loop():\n",
    "    print(\"Type your query or 'exit' to quit:\")\n",
    "    while True:\n",
    "        try:\n",
    "            query = input(\"\\nQuery: \").strip()\n",
    "            if query.lower() == 'exit':\n",
    "                print(\"Exiting the chat.\")\n",
    "                break\n",
    "            process_query(query)\n",
    "            print(\"\\n\")\n",
    "        except Exception as e:\n",
    "            print(f\"\\nExiting the chat.{str(e)}\")\n",
    "\n"
   ],
   "id": "984a1e7a50ffa1fd",
   "outputs": [],
   "execution_count": 15
  },
  {
   "metadata": {
    "ExecuteTime": {
     "end_time": "2025-06-09T07:37:33.412302Z",
     "start_time": "2025-06-09T07:37:10.666344Z"
    }
   },
   "cell_type": "code",
   "source": "chat_loop()",
   "id": "2a6ad2661f429337",
   "outputs": [
    {
     "name": "stdout",
     "output_type": "stream",
     "text": [
      "Type your query or 'exit' to quit:\n",
      "\n",
      "Exiting the chat.\"Could not resolve authentication method. Expected either api_key or auth_token to be set. Or for one of the `X-Api-Key` or `Authorization` headers to be explicitly omitted\"\n",
      "Exiting the chat.\n"
     ]
    }
   ],
   "execution_count": 16
  },
  {
   "metadata": {},
   "cell_type": "code",
   "outputs": [],
   "execution_count": null,
   "source": [
    "{\"role\": \"user\", \"content\": [{\"type\": \"text\", \"text\": \"query\"}]}\n",
    "{\"role\": \"assistant\", \"content\": [\n",
    "    {\"type\": \"tool_use\", \"name\": \"search_papers\", \"id\": \"a1\", \"input\": {\"topic\": \"computers\", \"max_results\": 5}},\n",
    "    {\"type\": \"tool_use\", \"name\": \"extract_info\", \"id\": \"b1\", \"input\": {\"paper_ids\": [\"id1\", \"id2\"]}}]}\n",
    "{\"role\": \"user\", \"content\": [{\"type\": \"tool_result\", \"tool_use_id\": \"a1\", \"content\": \"论文搜索结果\"}]}\n",
    "{\"role\": \"user\", \"content\": [{\"type\": \"tool_result\", \"tool_use_id\": \"b1\", \"content\": \"论文提取的信息为。。。。。\"}]}\n",
    "{\"role\": \"assistant\", \"content\": [{\"type\": \"text\", \"text\": \"我就是最终的结果啦\"}]}\n",
    "\n",
    "\n",
    "{\"role\": \"user\", \"content\": [{\"type\": \"tool_result\", \"tool_use_id\": \"a1\", \"content\": \"论文搜索结果\"},{\"type\": \"tool_result\", \"tool_use_id\": \"b1\", \"content\": \"论文提取的信息为。。。。。\"}]}\n",
    "{\"role\": \"assistant\", \"content\": [{\"type\": \"text\", \"text\": \"我就是最终的结果啦\"}]}\n"
   ],
   "id": "1c02d9b227e99682"
  },
  {
   "metadata": {
    "ExecuteTime": {
     "end_time": "2025-06-11T03:36:27.024166Z",
     "start_time": "2025-06-11T03:36:26.946484Z"
    }
   },
   "cell_type": "code",
   "source": [
    "if __name__ == \"__main__\":\n",
    "    mcp.run(transport='stdio')"
   ],
   "id": "f0beb412ac48e86e",
   "outputs": [
    {
     "ename": "RuntimeError",
     "evalue": "Already running asyncio in this thread",
     "output_type": "error",
     "traceback": [
      "\u001B[31m---------------------------------------------------------------------------\u001B[39m",
      "\u001B[31mRuntimeError\u001B[39m                              Traceback (most recent call last)",
      "\u001B[36mCell\u001B[39m\u001B[36m \u001B[39m\u001B[32mIn[4]\u001B[39m\u001B[32m, line 2\u001B[39m\n\u001B[32m      1\u001B[39m \u001B[38;5;28;01mif\u001B[39;00m \u001B[34m__name__\u001B[39m == \u001B[33m\"\u001B[39m\u001B[33m__main__\u001B[39m\u001B[33m\"\u001B[39m:\n\u001B[32m----> \u001B[39m\u001B[32m2\u001B[39m     \u001B[43mmcp\u001B[49m\u001B[43m.\u001B[49m\u001B[43mrun\u001B[49m\u001B[43m(\u001B[49m\u001B[43mtransport\u001B[49m\u001B[43m=\u001B[49m\u001B[33;43m'\u001B[39;49m\u001B[33;43mstdio\u001B[39;49m\u001B[33;43m'\u001B[39;49m\u001B[43m)\u001B[49m\n",
      "\u001B[36mFile \u001B[39m\u001B[32m~/Desktop/code/learn/MCP/ChatbotExample/venv/lib/python3.12/site-packages/mcp/server/fastmcp/server.py:236\u001B[39m, in \u001B[36mFastMCP.run\u001B[39m\u001B[34m(self, transport, mount_path)\u001B[39m\n\u001B[32m    234\u001B[39m \u001B[38;5;28;01mmatch\u001B[39;00m transport:\n\u001B[32m    235\u001B[39m     \u001B[38;5;28;01mcase\u001B[39;00m \u001B[33m\"\u001B[39m\u001B[33mstdio\u001B[39m\u001B[33m\"\u001B[39m:\n\u001B[32m--> \u001B[39m\u001B[32m236\u001B[39m         \u001B[43manyio\u001B[49m\u001B[43m.\u001B[49m\u001B[43mrun\u001B[49m\u001B[43m(\u001B[49m\u001B[38;5;28;43mself\u001B[39;49m\u001B[43m.\u001B[49m\u001B[43mrun_stdio_async\u001B[49m\u001B[43m)\u001B[49m\n\u001B[32m    237\u001B[39m     \u001B[38;5;28;01mcase\u001B[39;00m \u001B[33m\"\u001B[39m\u001B[33msse\u001B[39m\u001B[33m\"\u001B[39m:\n\u001B[32m    238\u001B[39m         anyio.run(\u001B[38;5;28;01mlambda\u001B[39;00m: \u001B[38;5;28mself\u001B[39m.run_sse_async(mount_path))\n",
      "\u001B[36mFile \u001B[39m\u001B[32m~/Desktop/code/learn/MCP/ChatbotExample/venv/lib/python3.12/site-packages/anyio/_core/_eventloop.py:59\u001B[39m, in \u001B[36mrun\u001B[39m\u001B[34m(func, backend, backend_options, *args)\u001B[39m\n\u001B[32m     57\u001B[39m     \u001B[38;5;28;01mpass\u001B[39;00m\n\u001B[32m     58\u001B[39m \u001B[38;5;28;01melse\u001B[39;00m:\n\u001B[32m---> \u001B[39m\u001B[32m59\u001B[39m     \u001B[38;5;28;01mraise\u001B[39;00m \u001B[38;5;167;01mRuntimeError\u001B[39;00m(\u001B[33mf\u001B[39m\u001B[33m\"\u001B[39m\u001B[33mAlready running \u001B[39m\u001B[38;5;132;01m{\u001B[39;00masynclib_name\u001B[38;5;132;01m}\u001B[39;00m\u001B[33m in this thread\u001B[39m\u001B[33m\"\u001B[39m)\n\u001B[32m     61\u001B[39m \u001B[38;5;28;01mtry\u001B[39;00m:\n\u001B[32m     62\u001B[39m     async_backend = get_async_backend(backend)\n",
      "\u001B[31mRuntimeError\u001B[39m: Already running asyncio in this thread"
     ]
    }
   ],
   "execution_count": 4
  },
  {
   "metadata": {
    "ExecuteTime": {
     "end_time": "2025-06-11T03:35:36.662659Z",
     "start_time": "2025-06-11T03:35:36.620023Z"
    }
   },
   "cell_type": "code",
   "source": [
    "from IPython.display import IFrame\n",
    "import os\n",
    "\n",
    "url = os.environ.get('DLAI_LOCAL_URL').format(port=8888)\n",
    "IFrame(f\"{url}terminals/1\",width=800,height=600)\n"
   ],
   "id": "855bc3da6eaacd2",
   "outputs": [
    {
     "ename": "AttributeError",
     "evalue": "'NoneType' object has no attribute 'format'",
     "output_type": "error",
     "traceback": [
      "\u001B[31m---------------------------------------------------------------------------\u001B[39m",
      "\u001B[31mAttributeError\u001B[39m                            Traceback (most recent call last)",
      "\u001B[36mCell\u001B[39m\u001B[36m \u001B[39m\u001B[32mIn[9]\u001B[39m\u001B[32m, line 4\u001B[39m\n\u001B[32m      1\u001B[39m \u001B[38;5;28;01mfrom\u001B[39;00m\u001B[38;5;250m \u001B[39m\u001B[34;01mIPython\u001B[39;00m\u001B[34;01m.\u001B[39;00m\u001B[34;01mdisplay\u001B[39;00m\u001B[38;5;250m \u001B[39m\u001B[38;5;28;01mimport\u001B[39;00m IFrame\n\u001B[32m      2\u001B[39m \u001B[38;5;28;01mimport\u001B[39;00m\u001B[38;5;250m \u001B[39m\u001B[34;01mos\u001B[39;00m\n\u001B[32m----> \u001B[39m\u001B[32m4\u001B[39m url = \u001B[43mos\u001B[49m\u001B[43m.\u001B[49m\u001B[43menviron\u001B[49m\u001B[43m.\u001B[49m\u001B[43mget\u001B[49m\u001B[43m(\u001B[49m\u001B[33;43m'\u001B[39;49m\u001B[33;43mDLAI_LOCAL_URL\u001B[39;49m\u001B[33;43m'\u001B[39;49m\u001B[43m)\u001B[49m\u001B[43m.\u001B[49m\u001B[43mformat\u001B[49m(port=\u001B[32m8888\u001B[39m)\n\u001B[32m      5\u001B[39m IFrame(\u001B[33mf\u001B[39m\u001B[33m\"\u001B[39m\u001B[38;5;132;01m{\u001B[39;00murl\u001B[38;5;132;01m}\u001B[39;00m\u001B[33mterminals/1\u001B[39m\u001B[33m\"\u001B[39m,width=\u001B[32m800\u001B[39m,height=\u001B[32m600\u001B[39m)\n",
      "\u001B[31mAttributeError\u001B[39m: 'NoneType' object has no attribute 'format'"
     ]
    }
   ],
   "execution_count": 9
  },
  {
   "metadata": {},
   "cell_type": "code",
   "outputs": [],
   "execution_count": null,
   "source": "",
   "id": "47e4b431fc9351ad"
  }
 ],
 "metadata": {
  "kernelspec": {
   "display_name": "Python (venv)",
   "language": "python",
   "name": "venv"
  },
  "language_info": {
   "codemirror_mode": {
    "name": "ipython",
    "version": 2
   },
   "file_extension": ".py",
   "mimetype": "text/x-python",
   "name": "python",
   "nbconvert_exporter": "python",
   "pygments_lexer": "ipython2",
   "version": "2.7.6"
  }
 },
 "nbformat": 4,
 "nbformat_minor": 5
}
