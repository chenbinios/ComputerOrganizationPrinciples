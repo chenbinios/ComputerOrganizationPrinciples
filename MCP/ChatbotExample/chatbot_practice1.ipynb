{
 "cells": [
  {
   "cell_type": "code",
   "execution_count": null,
   "id": "initial_id",
   "metadata": {
    "collapsed": true
   },
   "outputs": [],
   "source": [
    "import json\n",
    "from typing import List\n",
    "\n",
    "import arxiv\n",
    "from dotenv import load_dotenv\n",
    "\n",
    "\n",
    "def search_papers(topic:str,max_results:int=5)->List[str]:\n",
    "#     search papers and return papers content list\n",
    "    return [\"paper1\", \"paper2\", \"paper3\"]\n",
    "\n",
    "def extract_paper_content(paper_id:str)->str:\n",
    "#     extract paper content by paper id\n",
    "    return \"This is the content of the paper with ID: \" + paper_id\n"
   ]
  },
  {
   "metadata": {
    "ExecuteTime": {
     "end_time": "2025-06-10T03:29:35.479363Z",
     "start_time": "2025-06-10T03:29:35.476374Z"
    }
   },
   "cell_type": "code",
   "source": [
    "tools = [\n",
    "    {\n",
    "        \"name\":\"search_papers\",\n",
    "        \"description\":\"Search for papers on arXiv based on a topic and store their information.\",\n",
    "        \"inout_schema\":{\n",
    "            \"type\":\"object\",\n",
    "            \"properties\":{\n",
    "                \"topic\":{\n",
    "                    \"type\":\"string\",\n",
    "                    \"description\":\"the topic to search for\"\n",
    "\n",
    "                },\n",
    "                \"max_results\":{\n",
    "                    \"type\":\"integer\",\n",
    "                    \"description\":\"the maximum number of results to retrieve,default is 5.\",\n",
    "                    \"default\":5\n",
    "                }\n",
    "            }\n",
    "        }\n",
    "    },\n",
    "    {\n",
    "        \"name\":\"extract_info\",\n",
    "        \"description\": \"Search for information about a specific paper across all topic directories.\",\n",
    "        \"input_schema\": {\n",
    "            \"type\": \"object\",\n",
    "            \"properties\": {\n",
    "                \"paper_id\": {\n",
    "                    \"type\": \"string\",\n",
    "                    \"description\": \"The paper ID to look for\"\n",
    "                }\n",
    "            },\n",
    "            \"required\": [\"paper_id\"]\n",
    "        }\n",
    "    }\n",
    "]"
   ],
   "id": "a77471948341f7b9",
   "outputs": [],
   "execution_count": 2
  },
  {
   "metadata": {},
   "cell_type": "code",
   "outputs": [],
   "execution_count": null,
   "source": [
    "load_dotenv()\n",
    "client = anthropic.Anthropic()\n",
    "\n",
    "\n",
    "\n"
   ],
   "id": "220e0a3744e8adf8"
  },
  {
   "metadata": {},
   "cell_type": "code",
   "outputs": [],
   "execution_count": null,
   "source": [
    "\n",
    "tool_mapping_function = {\n",
    "    \"search_papers\": search_papers,\n",
    "    \"extract_info\": extract_paper_content\n",
    "}\n",
    "\n",
    "def execute_tool(tool_name:str,tool_args:dict)->str:\n",
    "    tool_executed_result = tool_mapping_function[tool_name](**tool_args)\n",
    "    result = \"\"\n",
    "    if isinstance(tool_executed_result,list):\n",
    "        result = tool_executed_result.join(\", \")\n",
    "    elif isinstance(tool_executed_result,dict):\n",
    "        result = json.dumps(tool_executed_result)\n",
    "    elif isinstance(tool_executed_result,str):\n",
    "        result = tool_executed_result\n",
    "    else:\n",
    "        result = \"\"\n",
    "    return result\n",
    "\n"
   ],
   "id": "9f9760e4b6080406"
  },
  {
   "metadata": {},
   "cell_type": "code",
   "outputs": [],
   "execution_count": null,
   "source": [
    "def process_query(query:str):\n",
    "    messages = [\n",
    "        {\n",
    "            \"role\":\"user\",\n",
    "            \"content\": query\n",
    "        }\n",
    "    ]\n",
    "    response = client.messages.create(\n",
    "        model=\"claude-2\",\n",
    "        messages=messages,\n",
    "        tools=tools,\n",
    "        tool_choice=\"auto\",\n",
    "        max_tokens=1000,\n",
    "        stop_sequences=[\"\\n\\n\"]\n",
    "    )\n",
    "\n",
    "    _query = True\n",
    "\n",
    "    while _query:\n",
    "        assistant_content = []\n",
    "        for content in response.content:\n",
    "            if content.type == \"text\":\n",
    "                print(content.text)\n",
    "                assistant_content.append(content)\n",
    "\n",
    "\n",
    "\n"
   ],
   "id": "bcbac33255138ccd"
  },
  {
   "metadata": {},
   "cell_type": "code",
   "outputs": [],
   "execution_count": null,
   "source": "",
   "id": "7ebb7d6b524e0e94"
  }
 ],
 "metadata": {
  "kernelspec": {
   "display_name": "Python 3",
   "language": "python",
   "name": "python3"
  },
  "language_info": {
   "codemirror_mode": {
    "name": "ipython",
    "version": 2
   },
   "file_extension": ".py",
   "mimetype": "text/x-python",
   "name": "python",
   "nbconvert_exporter": "python",
   "pygments_lexer": "ipython2",
   "version": "2.7.6"
  }
 },
 "nbformat": 4,
 "nbformat_minor": 5
}
